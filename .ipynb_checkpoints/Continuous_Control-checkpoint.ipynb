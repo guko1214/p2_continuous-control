{
 "cells": [
  {
   "cell_type": "markdown",
   "metadata": {},
   "source": [
    "# Continuous Control\n",
    "\n",
    "---\n",
    "\n",
    "In this notebook, you will learn how to use the Unity ML-Agents environment for the second project of the [Deep Reinforcement Learning Nanodegree](https://www.udacity.com/course/deep-reinforcement-learning-nanodegree--nd893) program.\n",
    "\n",
    "### 1. Start the Environment\n",
    "\n",
    "We begin by importing the necessary packages.  If the code cell below returns an error, please revisit the project instructions to double-check that you have installed [Unity ML-Agents](https://github.com/Unity-Technologies/ml-agents/blob/master/docs/Installation.md) and [NumPy](http://www.numpy.org/)."
   ]
  },
  {
   "cell_type": "code",
   "execution_count": 1,
   "metadata": {},
   "outputs": [],
   "source": [
    "from unityagents import UnityEnvironment\n",
    "import numpy as np"
   ]
  },
  {
   "cell_type": "markdown",
   "metadata": {},
   "source": [
    "Next, we will start the environment!  **_Before running the code cell below_**, change the `file_name` parameter to match the location of the Unity environment that you downloaded.\n",
    "\n",
    "- **Mac**: `\"path/to/Reacher.app\"`\n",
    "- **Windows** (x86): `\"path/to/Reacher_Windows_x86/Reacher.exe\"`\n",
    "- **Windows** (x86_64): `\"path/to/Reacher_Windows_x86_64/Reacher.exe\"`\n",
    "- **Linux** (x86): `\"path/to/Reacher_Linux/Reacher.x86\"`\n",
    "- **Linux** (x86_64): `\"path/to/Reacher_Linux/Reacher.x86_64\"`\n",
    "- **Linux** (x86, headless): `\"path/to/Reacher_Linux_NoVis/Reacher.x86\"`\n",
    "- **Linux** (x86_64, headless): `\"path/to/Reacher_Linux_NoVis/Reacher.x86_64\"`\n",
    "\n",
    "For instance, if you are using a Mac, then you downloaded `Reacher.app`.  If this file is in the same folder as the notebook, then the line below should appear as follows:\n",
    "```\n",
    "env = UnityEnvironment(file_name=\"Reacher.app\")\n",
    "```"
   ]
  },
  {
   "cell_type": "code",
   "execution_count": 2,
   "metadata": {},
   "outputs": [
    {
     "name": "stderr",
     "output_type": "stream",
     "text": [
      "INFO:unityagents:\n",
      "'Academy' started successfully!\n",
      "Unity Academy name: Academy\n",
      "        Number of Brains: 1\n",
      "        Number of External Brains : 1\n",
      "        Lesson number : 0\n",
      "        Reset Parameters :\n",
      "\t\tgoal_speed -> 1.0\n",
      "\t\tgoal_size -> 5.0\n",
      "Unity brain name: ReacherBrain\n",
      "        Number of Visual Observations (per agent): 0\n",
      "        Vector Observation space type: continuous\n",
      "        Vector Observation space size (per agent): 33\n",
      "        Number of stacked Vector Observation: 1\n",
      "        Vector Action space type: continuous\n",
      "        Vector Action space size (per agent): 4\n",
      "        Vector Action descriptions: , , , \n"
     ]
    }
   ],
   "source": [
    "#env = UnityEnvironment(file_name='Reacher_Windows_x86_64/Reacher.exe')\n",
    "env = UnityEnvironment(file_name='Reacher_Windows_x86_64(20)/Reacher.exe')"
   ]
  },
  {
   "cell_type": "markdown",
   "metadata": {},
   "source": [
    "Environments contain **_brains_** which are responsible for deciding the actions of their associated agents. Here we check for the first brain available, and set it as the default brain we will be controlling from Python."
   ]
  },
  {
   "cell_type": "code",
   "execution_count": 3,
   "metadata": {},
   "outputs": [],
   "source": [
    "# get the default brain\n",
    "brain_name = env.brain_names[0]\n",
    "brain = env.brains[brain_name]"
   ]
  },
  {
   "cell_type": "markdown",
   "metadata": {},
   "source": [
    "### 2. Examine the State and Action Spaces\n",
    "\n",
    "In this environment, a double-jointed arm can move to target locations. A reward of `+0.1` is provided for each step that the agent's hand is in the goal location. Thus, the goal of your agent is to maintain its position at the target location for as many time steps as possible.\n",
    "\n",
    "The observation space consists of `33` variables corresponding to position, rotation, velocity, and angular velocities of the arm.  Each action is a vector with four numbers, corresponding to torque applicable to two joints.  Every entry in the action vector must be a number between `-1` and `1`.\n",
    "\n",
    "Run the code cell below to print some information about the environment."
   ]
  },
  {
   "cell_type": "code",
   "execution_count": 4,
   "metadata": {},
   "outputs": [
    {
     "name": "stdout",
     "output_type": "stream",
     "text": [
      "Number of agents: 20\n",
      "Size of each action: 4\n",
      "There are 20 agents. Each observes a state with length: 33\n",
      "The state for the first agent looks like: [ 0.00000000e+00 -4.00000000e+00  0.00000000e+00  1.00000000e+00\n",
      " -0.00000000e+00 -0.00000000e+00 -4.37113883e-08  0.00000000e+00\n",
      "  0.00000000e+00  0.00000000e+00  0.00000000e+00  0.00000000e+00\n",
      "  0.00000000e+00  0.00000000e+00 -1.00000000e+01  0.00000000e+00\n",
      "  1.00000000e+00 -0.00000000e+00 -0.00000000e+00 -4.37113883e-08\n",
      "  0.00000000e+00  0.00000000e+00  0.00000000e+00  0.00000000e+00\n",
      "  0.00000000e+00  0.00000000e+00  5.75471878e+00 -1.00000000e+00\n",
      "  5.55726624e+00  0.00000000e+00  1.00000000e+00  0.00000000e+00\n",
      " -1.68164849e-01]\n"
     ]
    }
   ],
   "source": [
    "# reset the environment\n",
    "env_info = env.reset(train_mode=True)[brain_name]\n",
    "\n",
    "# number of agents\n",
    "num_agents = len(env_info.agents)\n",
    "print('Number of agents:', num_agents)\n",
    "\n",
    "# size of each action\n",
    "action_size = brain.vector_action_space_size\n",
    "print('Size of each action:', action_size)\n",
    "\n",
    "# examine the state space \n",
    "states = env_info.vector_observations\n",
    "state_size = states.shape[1]\n",
    "print('There are {} agents. Each observes a state with length: {}'.format(states.shape[0], state_size))\n",
    "print('The state for the first agent looks like:', states[0])"
   ]
  },
  {
   "cell_type": "markdown",
   "metadata": {},
   "source": [
    "### 3. Take Random Actions in the Environment\n",
    "\n",
    "In the next code cell, you will learn how to use the Python API to control the agent and receive feedback from the environment.\n",
    "\n",
    "Once this cell is executed, you will watch the agent's performance, if it selects an action at random with each time step.  A window should pop up that allows you to observe the agent, as it moves through the environment.  \n",
    "\n",
    "Of course, as part of the project, you'll have to change the code so that the agent is able to use its experience to gradually choose better actions when interacting with the environment!"
   ]
  },
  {
   "cell_type": "code",
   "execution_count": 5,
   "metadata": {},
   "outputs": [
    {
     "name": "stdout",
     "output_type": "stream",
     "text": [
      "Total score (averaged over agents) this episode: 0.1149999974295497\n"
     ]
    }
   ],
   "source": [
    "env_info = env.reset(train_mode=False)[brain_name]     # reset the environment    \n",
    "states = env_info.vector_observations                  # get the current state (for each agent)\n",
    "scores = np.zeros(num_agents)                          # initialize the score (for each agent)\n",
    "while True:\n",
    "    actions = np.random.randn(num_agents, action_size) # select an action (for each agent)\n",
    "    actions = np.clip(actions, -1, 1)                  # all actions between -1 and 1\n",
    "    env_info = env.step(actions)[brain_name]           # send all actions to tne environment\n",
    "    next_states = env_info.vector_observations         # get next state (for each agent)\n",
    "    rewards = env_info.rewards                         # get reward (for each agent)\n",
    "    dones = env_info.local_done                        # see if episode finished\n",
    "    scores += env_info.rewards                         # update the score (for each agent)\n",
    "    states = next_states                               # roll over states to next time step\n",
    "    if np.any(dones):                                  # exit loop if episode finished\n",
    "        break\n",
    "print('Total score (averaged over agents) this episode: {}'.format(np.mean(scores)))"
   ]
  },
  {
   "cell_type": "markdown",
   "metadata": {},
   "source": [
    "When finished, you can close the environment."
   ]
  },
  {
   "cell_type": "code",
   "execution_count": 6,
   "metadata": {},
   "outputs": [],
   "source": [
    "env.close()"
   ]
  },
  {
   "cell_type": "markdown",
   "metadata": {},
   "source": [
    "### 4. It's Your Turn!\n",
    "\n",
    "Now it's your turn to train your own agent to solve the environment!  When training the environment, set `train_mode=True`, so that the line for resetting the environment looks like the following:\n",
    "```python\n",
    "env_info = env.reset(train_mode=True)[brain_name]\n",
    "```"
   ]
  },
  {
   "cell_type": "code",
   "execution_count": 5,
   "metadata": {},
   "outputs": [],
   "source": [
    "from ddpg_agent import Agent\n",
    "import torch\n",
    "import pandas as pd\n",
    "from collections import deque\n",
    "import random\n",
    "import matplotlib.pyplot as plt\n",
    "%matplotlib inline\n",
    "\n",
    "n_agents=20\n",
    "\n",
    "agent = Agent(state_size=states.shape[1], action_size=brain.vector_action_space_size,n_agents=1, random_seed=10)"
   ]
  },
  {
   "cell_type": "code",
   "execution_count": 6,
   "metadata": {
    "scrolled": false
   },
   "outputs": [
    {
     "name": "stderr",
     "output_type": "stream",
     "text": [
      "C:\\Users\\guko_\\Anaconda3\\envs\\drlnd2\\lib\\site-packages\\torch\\nn\\functional.py:1795: UserWarning: nn.functional.tanh is deprecated. Use torch.tanh instead.\n",
      "  warnings.warn(\"nn.functional.tanh is deprecated. Use torch.tanh instead.\")\n"
     ]
    },
    {
     "name": "stdout",
     "output_type": "stream",
     "text": [
      "Episode 100\tAverage Score: 21.58\n",
      "Episode 125\tAverage Score: 30.12\n",
      "Environment solved in 25 episodes!\tAverage Score: 30.12\n"
     ]
    },
    {
     "data": {
      "image/png": "[encoded data removed]",
      "text/plain": [
       "<Figure size 432x288 with 1 Axes>"
      ]
     },
     "metadata": {
      "needs_background": "light"
     },
     "output_type": "display_data"
    }
   ],
   "source": [
    "from collections import deque\n",
    "\n",
    "def ddpg(n_episodes=10000, max_t=1000, print_every=100,train=True):\n",
    "    scores_deque = deque(maxlen=print_every)\n",
    "    scores = []\n",
    "    for i_episode in range(1, n_episodes+1):\n",
    "        env_info = env.reset(train_mode=True)[brain_name]\n",
    "        state = env_info.vector_observations\n",
    "        agent.reset()\n",
    "        score = np.zeros(num_agents)\n",
    "        #score = \n",
    "        for t in range(max_t):\n",
    "            actions = agent.act(state)\n",
    "            actions = np.clip(actions, -1, 1)             \n",
    "            env_info = env.step(actions)[brain_name]           # send all actions to tne environment\n",
    "            next_states = env_info.vector_observations         # get next state (for each agent)\n",
    "            rewards = env_info.rewards # get reward (for each agent)            \n",
    "            dones = env_info.local_done                 # see if episode finished  \n",
    "            \n",
    "            if train == True:\n",
    "                agent.step(state, actions, rewards, next_states, dones)\n",
    "            state = next_states            \n",
    "\n",
    "            score += rewards\n",
    "\n",
    "            if any(dones):\n",
    "                break \n",
    "\n",
    "        scores_deque.append(np.mean(score))\n",
    "        scores.append(np.mean(score))\n",
    "\n",
    "        print('\\rEpisode {}\\tAverage Score: {:.2f}'.format(i_episode, np.mean(scores_deque)), end=\"\")\n",
    "        torch.save(agent.actor_local.state_dict(), 'checkpoint_actor.pth')\n",
    "        torch.save(agent.critic_local.state_dict(), 'checkpoint_critic.pth')\n",
    "        if i_episode % print_every == 0:\n",
    "            print('\\rEpisode {}\\tAverage Score: {:.2f}'.format(i_episode, np.mean(scores_deque)))\n",
    "        if np.mean(scores_deque) >= 30.0 and train==True:\n",
    "            print('\\nEnvironment solved in {:d} episodes!\\tAverage Score: {:.2f}'.format(i_episode, np.mean(scores_deque)))\n",
    "            torch.save(agent.actor_local.state_dict(), 'weights/checkpoint_actor.pth')\n",
    "            torch.save(agent.critic_local.state_dict(), 'weights/checkpoint_critic.pth')\n",
    "            break            \n",
    "    return scores\n",
    "\n",
    "scores = ddpg()\n",
    "\n",
    "fig = plt.figure()\n",
    "ax = fig.add_subplot(111)\n",
    "plt.plot(np.arange(1, len(scores)+1), scores)\n",
    "plt.ylabel('Score')\n",
    "plt.xlabel('Episode #')\n",
    "plt.show()"
   ]
  },
  {
   "cell_type": "code",
   "execution_count": 7,
   "metadata": {
    "scrolled": false
   },
   "outputs": [
    {
     "name": "stdout",
     "output_type": "stream",
     "text": [
      "Episode 1, score: 0.9169999795034528\n",
      "Episode 2, score: 0.8924999800510705\n",
      "Episode 3, score: 0.8834999802522361\n",
      "Episode 4, score: 1.0659999761730432\n",
      "Episode 5, score: 0.9929999778047204\n",
      "Episode 6, score: 1.0329999769106508\n",
      "Episode 7, score: 1.2964999710209668\n",
      "Episode 8, score: 1.2529999719932676\n",
      "Episode 9, score: 1.0874999756924808\n",
      "Episode 10, score: 1.2604999718256296\n",
      "Episode 11, score: 1.4529999675229193\n",
      "Episode 12, score: 1.4809999668970704\n",
      "Episode 13, score: 1.8524999585933983\n",
      "Episode 14, score: 1.6669999627396463\n",
      "Episode 15, score: 2.2979999486356975\n",
      "Episode 16, score: 2.2549999495968223\n",
      "Episode 17, score: 2.7249999390915036\n",
      "Episode 18, score: 3.1114999304525552\n",
      "Episode 19, score: 4.295499903988093\n",
      "Episode 20, score: 4.198499906156212\n",
      "Episode 21, score: 4.658999895863235\n",
      "Episode 22, score: 6.1139998633414505\n",
      "Episode 23, score: 7.432499833870679\n",
      "Episode 24, score: 8.446499811206014\n",
      "Episode 25, score: 9.019999798387289\n",
      "Episode 26, score: 10.335999768972396\n",
      "Episode 27, score: 11.588999740965665\n",
      "Episode 28, score: 11.171499750297517\n",
      "Episode 29, score: 12.635499717574566\n",
      "Episode 30, score: 12.558999719284476\n",
      "Episode 31, score: 14.230999681912362\n",
      "Episode 32, score: 15.21149965999648\n",
      "Episode 33, score: 13.090499707404524\n",
      "Episode 34, score: 13.053499708231538\n",
      "Episode 35, score: 15.702499649021775\n",
      "Episode 36, score: 15.457999654486775\n",
      "Episode 37, score: 15.377999656274914\n",
      "Episode 38, score: 16.83899962361902\n",
      "Episode 39, score: 16.22149963742122\n",
      "Episode 40, score: 15.675999649614095\n",
      "Episode 41, score: 15.086499662790448\n",
      "Episode 42, score: 19.60849956171587\n",
      "Episode 43, score: 18.470499587152155\n",
      "Episode 44, score: 20.561999540403484\n",
      "Episode 45, score: 18.72299958150834\n",
      "Episode 46, score: 18.349999589845538\n",
      "Episode 47, score: 18.909499577339737\n",
      "Episode 48, score: 18.31249959068373\n",
      "Episode 49, score: 22.045499507244678\n",
      "Episode 50, score: 20.924499532300977\n",
      "Episode 51, score: 22.608499494660645\n",
      "Episode 52, score: 22.12849950538948\n",
      "Episode 53, score: 22.06149950688705\n",
      "Episode 54, score: 21.70699951481074\n",
      "Episode 55, score: 22.472499497700483\n",
      "Episode 56, score: 26.354999410919845\n",
      "Episode 57, score: 28.361499366071076\n",
      "Episode 58, score: 27.654499381873755\n",
      "Episode 59, score: 32.08299928288907\n",
      "Episode 60, score: 31.19099930282682\n",
      "Episode 61, score: 32.08049928294495\n",
      "Episode 62, score: 30.276999323256312\n",
      "Episode 63, score: 32.38599927611649\n",
      "Episode 64, score: 33.44449925245717\n",
      "Episode 65, score: 31.015499306749554\n",
      "Episode 66, score: 30.807499311398715\n",
      "Episode 67, score: 35.03049921700731\n",
      "Episode 68, score: 33.903499242197725\n",
      "Episode 69, score: 35.570999204926196\n",
      "Episode 70, score: 33.39199925363064\n",
      "Episode 71, score: 32.63999927043915\n",
      "Episode 72, score: 34.32349923280999\n",
      "Episode 73, score: 37.423499163519594\n",
      "Episode 74, score: 35.08749921573326\n",
      "Episode 75, score: 35.3679992094636\n",
      "Episode 76, score: 36.67899918016046\n",
      "Episode 77, score: 35.01349921738729\n",
      "Episode 78, score: 36.749499178584664\n",
      "Episode 79, score: 38.03099914994091\n",
      "Episode 80, score: 36.53949918327853\n",
      "Episode 81, score: 36.91849917480722\n",
      "Episode 82, score: 37.237499167677015\n",
      "Episode 83, score: 36.777499177958816\n",
      "Episode 84, score: 36.67849918017164\n",
      "Episode 85, score: 37.90549915274605\n",
      "Episode 86, score: 37.78299915548414\n",
      "Episode 87, score: 38.15499914716929\n",
      "Episode 88, score: 37.8649991536513\n",
      "Episode 89, score: 35.06699921619147\n",
      "Episode 90, score: 36.327999188005926\n",
      "Episode 91, score: 37.83249915437773\n",
      "Episode 92, score: 36.659999180585146\n",
      "Episode 93, score: 35.24149921229109\n",
      "Episode 94, score: 36.79849917748943\n",
      "Episode 95, score: 37.99749915068969\n",
      "Episode 96, score: 38.26849914463237\n",
      "Episode 97, score: 37.82449915455654\n",
      "Episode 98, score: 37.32599916569889\n",
      "Episode 99, score: 37.894999152980745\n",
      "Episode 100, score: 37.46949916249141\n",
      "Episode 101, score: 37.97999915108085\n",
      "Episode 102, score: 38.381999142095445\n",
      "Episode 103, score: 36.63999918103218\n",
      "Episode 104, score: 36.940499174315484\n",
      "Episode 105, score: 37.82049915464595\n",
      "Episode 106, score: 36.90849917503074\n",
      "Episode 107, score: 34.62749922601506\n",
      "Episode 108, score: 33.60499924886972\n",
      "Episode 109, score: 36.93999917432666\n",
      "Episode 110, score: 38.1384991475381\n",
      "Episode 111, score: 38.53599913865328\n",
      "Episode 112, score: 37.354999165050685\n",
      "Episode 113, score: 38.16399914696812\n",
      "Episode 114, score: 34.50099922884256\n",
      "Episode 115, score: 36.67749918019399\n",
      "Episode 116, score: 37.80799915492535\n",
      "Episode 117, score: 37.4589991627261\n",
      "Episode 118, score: 37.46249916264787\n",
      "Episode 119, score: 36.97999917343259\n",
      "Episode 120, score: 36.538999183289704\n",
      "Episode 121, score: 36.094499193225055\n",
      "Episode 122, score: 37.51949916137382\n",
      "Episode 123, score: 37.56349916039035\n",
      "Episode 124, score: 36.68649917999282\n",
      "Episode 125, score: 38.54349913848564\n"
     ]
    }
   ],
   "source": [
    "for i, score in enumerate(scores):\n",
    "    print('Episode {}, score: {}'.format(i+1,score))"
   ]
  },
  {
   "cell_type": "code",
   "execution_count": 8,
   "metadata": {},
   "outputs": [
    {
     "name": "stderr",
     "output_type": "stream",
     "text": [
      "C:\\Users\\guko_\\Anaconda3\\envs\\drlnd2\\lib\\site-packages\\torch\\nn\\functional.py:1795: UserWarning: nn.functional.tanh is deprecated. Use torch.tanh instead.\n",
      "  warnings.warn(\"nn.functional.tanh is deprecated. Use torch.tanh instead.\")\n"
     ]
    },
    {
     "name": "stdout",
     "output_type": "stream",
     "text": [
      "Episode 100\tAverage Score: 38.02\n",
      "Episode 200\tAverage Score: 38.08\n",
      "Episode 300\tAverage Score: 37.98\n",
      "Episode 400\tAverage Score: 37.84\n",
      "Episode 500\tAverage Score: 37.89\n",
      "Episode 600\tAverage Score: 37.93\n",
      "Episode 700\tAverage Score: 38.02\n",
      "Episode 800\tAverage Score: 38.03\n",
      "Episode 900\tAverage Score: 38.09\n",
      "Episode 1000\tAverage Score: 38.02\n"
     ]
    },
    {
     "data": {
      "image/png": "[encoded data removed]",
      "text/plain": [
       "<Figure size 432x288 with 1 Axes>"
      ]
     },
     "metadata": {
      "needs_background": "light"
     },
     "output_type": "display_data"
    }
   ],
   "source": [
    "scores2 = ddpg(n_episodes=1000,train=False)\n",
    "fig = plt.figure()\n",
    "ax = fig.add_subplot(111)\n",
    "plt.plot(np.arange(1, len(scores2)+1), scores2)\n",
    "plt.ylabel('Score')\n",
    "plt.xlabel('Episode #')\n",
    "plt.show()"
   ]
  },
  {
   "cell_type": "code",
   "execution_count": null,
   "metadata": {},
   "outputs": [],
   "source": []
  }
 ],
 "metadata": {
  "kernelspec": {
   "display_name": "drlnd2",
   "language": "python",
   "name": "drlnd2"
  },
  "language_info": {
   "codemirror_mode": {
    "name": "ipython",
    "version": 3
   },
   "file_extension": ".py",
   "mimetype": "text/x-python",
   "name": "python",
   "nbconvert_exporter": "python",
   "pygments_lexer": "ipython3",
   "version": "3.6.13"
  }
 },
 "nbformat": 4,
 "nbformat_minor": 2
}
